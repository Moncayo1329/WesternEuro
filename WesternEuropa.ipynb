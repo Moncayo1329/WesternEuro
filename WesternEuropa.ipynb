{
  "metadata": {
    "kernelspec": {
      "name": "python",
      "display_name": "Python (Pyodide)",
      "language": "python"
    },
    "language_info": {
      "codemirror_mode": {
        "name": "python",
        "version": 3
      },
      "file_extension": ".py",
      "mimetype": "text/x-python",
      "name": "python",
      "nbconvert_exporter": "python",
      "pygments_lexer": "ipython3",
      "version": "3.8"
    }
  },
  "nbformat_minor": 4,
  "nbformat": 4,
  "cells": [
    {
      "cell_type": "code",
      "source": "import pandas as pd ",
      "metadata": {
        "trusted": true
      },
      "outputs": [],
      "execution_count": 1
    },
    {
      "cell_type": "code",
      "source": "df = pd.read_csv('countries of the world.csv')",
      "metadata": {
        "trusted": true
      },
      "outputs": [],
      "execution_count": 10
    },
    {
      "cell_type": "code",
      "source": "print(df.head())",
      "metadata": {
        "trusted": true
      },
      "outputs": [
        {
          "name": "stdout",
          "text": "           Country                               Region\n0     Afghanistan         ASIA (EX. NEAR EAST)         \n1         Albania   EASTERN EUROPE                     \n2         Algeria   NORTHERN AFRICA                    \n3  American Samoa   OCEANIA                            \n4         Andorra   WESTERN EUROPE                     \n",
          "output_type": "stream"
        }
      ],
      "execution_count": 11
    },
    {
      "cell_type": "code",
      "source": " WESTERN_EUROPE  = df[df['Region'].str.contains('WESTERN EUROPE', na=False)]",
      "metadata": {
        "trusted": true
      },
      "outputs": [],
      "execution_count": 25
    },
    {
      "cell_type": "code",
      "source": "print(WESTERN_EUROPE[['Country', 'Region']])",
      "metadata": {
        "trusted": true
      },
      "outputs": [
        {
          "name": "stdout",
          "text": "             Country                               Region\n4           Andorra   WESTERN EUROPE                     \n12          Austria   WESTERN EUROPE                     \n19          Belgium   WESTERN EUROPE                     \n54          Denmark   WESTERN EUROPE                     \n66    Faroe Islands   WESTERN EUROPE                     \n68          Finland   WESTERN EUROPE                     \n69           France   WESTERN EUROPE                     \n76          Germany   WESTERN EUROPE                     \n78        Gibraltar   WESTERN EUROPE                     \n79           Greece   WESTERN EUROPE                     \n85         Guernsey   WESTERN EUROPE                     \n93          Iceland   WESTERN EUROPE                     \n98          Ireland   WESTERN EUROPE                     \n99      Isle of Man   WESTERN EUROPE                     \n101           Italy   WESTERN EUROPE                     \n104          Jersey   WESTERN EUROPE                     \n119   Liechtenstein   WESTERN EUROPE                     \n121      Luxembourg   WESTERN EUROPE                     \n129           Malta   WESTERN EUROPE                     \n138          Monaco   WESTERN EUROPE                     \n146     Netherlands   WESTERN EUROPE                     \n154          Norway   WESTERN EUROPE                     \n164        Portugal   WESTERN EUROPE                     \n177      San Marino   WESTERN EUROPE                     \n190           Spain   WESTERN EUROPE                     \n195          Sweden   WESTERN EUROPE                     \n196     Switzerland   WESTERN EUROPE                     \n213  United Kingdom   WESTERN EUROPE                     \n",
          "output_type": "stream"
        }
      ],
      "execution_count": 26
    },
    {
      "cell_type": "code",
      "source": "western_europe_countries = df[df['Region'].str.strip() == 'WESTERN EUROPE']",
      "metadata": {
        "trusted": true
      },
      "outputs": [],
      "execution_count": 31
    },
    {
      "cell_type": "code",
      "source": "num_paises_western_europe = western_europe_countries.shape[0]",
      "metadata": {
        "trusted": true
      },
      "outputs": [],
      "execution_count": 32
    },
    {
      "cell_type": "code",
      "source": "print(\"Número de países en Western Europe:\", num_paises_western_europe)",
      "metadata": {
        "trusted": true
      },
      "outputs": [
        {
          "name": "stdout",
          "text": "Número de países en Western Europe: 28\n",
          "output_type": "stream"
        }
      ],
      "execution_count": 33
    },
    {
      "cell_type": "code",
      "source": "",
      "metadata": {
        "trusted": true
      },
      "outputs": [],
      "execution_count": null
    }
  ]
}